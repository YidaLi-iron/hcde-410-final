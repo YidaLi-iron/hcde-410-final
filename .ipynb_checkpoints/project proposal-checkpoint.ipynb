{
 "cells": [
  {
   "cell_type": "markdown",
   "id": "c10aec5d-a61e-4fd9-ab06-19324c381ca2",
   "metadata": {},
   "source": [
    "# Motivation and Problem Statement\n"
   ]
  },
  {
   "cell_type": "markdown",
   "id": "1980bda1-a120-4999-b1bc-d3e12d7fd5fc",
   "metadata": {},
   "source": [
    "For this final project, I plan to analyze a dataset relate to gentrification in New York city. The reason I want to do this analyze is I want to find out the pattern of gentrification and can give suggestion about how we can decrease the speed of gentrification. Gentrification cause a lot of negative impacts. For example, it forced original residents to move out their community and rised the living priced at this area. From a scientific perspective, it is worth for us to find out the pattern of gentrification so that we can find out a way to stop gentrification. My research goal in this project is the how gentrification relates to education level and living costs? To be specific, gentrification is a process that lower income class move out and upper class move into the community. However, how is gentrification relates to education level is a problem I haven't see a clear answer."
   ]
  },
  {
   "cell_type": "markdown",
   "id": "745da2d8-92de-49b1-a86e-f1339a9fd1ab",
   "metadata": {},
   "source": [
    "# Data Selected for Analysis"
   ]
  },
  {
   "cell_type": "markdown",
   "id": "7d0386f2-6874-4f6f-a3a8-5ef02af8b1b9",
   "metadata": {},
   "source": [
    "The dataset I choose is [Data for New York City Index of Gentrification](https://figshare.com/articles/dataset/Data_for_New_York_City_Index_of_Gentrification/11862090). This workbook contains data on census tracts, residential housing sales from the year 2000 to 2016. This dataset can be used for this project because in it [licence](https://creativecommons.org/licenses/by/4.0/), it says that we cab remix, transform, and build upon the material for any purpose, even commercially. This dataset is suitable for addressing my research goal because it contains data about how many people who have at least four years college experience in different areas. Also, it contains data about the median living price at different areas. By comparing these data from 2000 and 2016, we can find out the possible relationship between gentrification and education level and also living price."
   ]
  },
  {
   "cell_type": "markdown",
   "id": "3810b8e7-fdde-4301-8d25-e53237437ed3",
   "metadata": {
    "tags": []
   },
   "source": [
    "# Unknowns and Dependencies"
   ]
  },
  {
   "cell_type": "markdown",
   "id": "212abee1-00c7-4c59-a060-f151422cc4b4",
   "metadata": {
    "tags": []
   },
   "source": [
    "One challenge I may faced is to compared different data between 2000 and 2016. I need to carefully think about control the variable so that I can make sure the result is valid. Another question I need to think about is how to visualize my result. What kind of graph and method I would like to use to visualize my data. "
   ]
  },
  {
   "cell_type": "markdown",
   "id": "0b9e6076-3cd4-48ac-a814-dd44f6f63def",
   "metadata": {},
   "source": [
    "# Feedback From Colleagues"
   ]
  },
  {
   "cell_type": "markdown",
   "id": "df0ee266-ae4f-4b28-819b-aa1991566ad0",
   "metadata": {},
   "source": [
    "One feedback I received is to make clear about what is include in this dataset so that audience can understand why I choose this dataset."
   ]
  },
  {
   "cell_type": "markdown",
   "id": "994f66ae-b9d3-4d37-a8ee-c31743c791f7",
   "metadata": {},
   "source": [
    "# Research Question"
   ]
  },
  {
   "cell_type": "markdown",
   "id": "b81083ba-7507-4242-914c-a375c44d6e7b",
   "metadata": {},
   "source": [
    "In this research project, I set up several research questions to guide the research process. These research questions are questions this study will try to find out and report at last:\n",
    "  \n",
    "```\n",
    "1. How median family income changes from 2000 to 2016?\n",
    "2. What is the relationship between gentrification and the number of people has at least four years college education level?\n",
    "3. How the median rent price changes from 2000 to 2016?\n",
    "```  "
   ]
  },
  {
   "cell_type": "markdown",
   "id": "801d5dfe-1498-46d7-87ef-5583fe75982b",
   "metadata": {},
   "source": [
    "# Background and Related Work"
   ]
  },
  {
   "cell_type": "markdown",
   "id": "bcd73506-6de5-4cfc-aa6c-cc4d065b845a",
   "metadata": {},
   "source": [
    "As urban modernization happened in big cities, gentrification hugely influenced the lower-class of people and hurt them. The word gentrification means the process of changing the character of a neighborhood through the influx of more affluent residents and businesses. However, this topic is important because of the negative impact it brings to our society. [According to Luis Contreras, some common impacts of gentrification include displacement through rent/price increase, loss of affordable housing, and homelessness.](https://storymaps.arcgis.com/stories/6baa7d09f3a74b2c9a86d69a545e2d2a) At first, the lower-class people can easily find other places to live. However, as urban modernization covers more and more areas in a city, some people have no place to live. When gentrification impacts more and more people, it is worth researching why gentrification happened and how we can solve this problem. This previous study help me to understand the basic pattern of the gentrification. However, it inspired me to think about more detail things behind this phenomenon. For example, what exactly living costs increase due to the gentrification? Another point is how gentrification relates to education level. It seems like in these study they all mentioned about how gentrification impact different classes but haven't mentioned about how gentrification relates to educational level.\n"
   ]
  },
  {
   "cell_type": "markdown",
   "id": "a85371c1-df36-485e-afb0-276583cae430",
   "metadata": {},
   "source": [
    "# Methodology"
   ]
  },
  {
   "cell_type": "markdown",
   "id": "2a6f1a44-98c3-498a-9cfc-07f87172842e",
   "metadata": {},
   "source": [
    "## Research Strategy"
   ]
  },
  {
   "cell_type": "markdown",
   "id": "b2b4d6f0-2646-410e-8e59-f44bf4e493d0",
   "metadata": {},
   "source": [
    "In this study, we use quanlitative methods as the primary method during our research process. At the inital stage, we did not have a clear goal about which direction we are going to dig into. We try to do pre research to know more about gentrification and find out the data set we want. After analyzing this dataset, we try to find similarities between these data and generate findings to solve our research question."
   ]
  },
  {
   "cell_type": "markdown",
   "id": "f5c86358-8d51-41ef-9385-129a630478dc",
   "metadata": {},
   "source": [
    "## Method"
   ]
  },
  {
   "cell_type": "markdown",
   "id": "f0cece22-34f3-4c2e-ae63-718ec2730e5c",
   "metadata": {},
   "source": [
    "In this study, we will investigate this phenomenon through analyzing [Data for New York City Index of Gentrification](https://figshare.com/articles/dataset/Data_for_New_York_City_Index_of_Gentrification/11862090). From this data set, we can get an index of gentrification for NYC census tracts, representing change from the year 2000 to 2016 in 2095 areas. Inside this dataset, we will focus on following variables.``'mdfami00_16'``: This variable shows the median family income relative change from 2000 to 2016 in proportion. ``'mdrent00_16'``: This variable shows the median rental price relative change from 2000 to 2016. ``'College00_16'``: This variable shows people at least twenty four years old with at least a four year colege degreee relative change from 2000 to 2016 in proportion.  Since these data are showing in proportion. The study will merge these data into different proportion range and visualize using bar chart and pir chart."
   ]
  },
  {
   "cell_type": "markdown",
   "id": "762be210-b140-4c61-8201-f87d5f2ae8ac",
   "metadata": {},
   "source": [
    "# Findings"
   ]
  },
  {
   "cell_type": "markdown",
   "id": "8a9b144c-1f09-474a-9ea8-0bef2f3f937d",
   "metadata": {},
   "source": [
    "This study presents the findings from two categories: how gentrification relates to living costs changed and how gentrification relates to education level. Inside the living costs area, this study is focusing on the median rental price changed from 2000 to 2016, combined with the median income changed from 2000 to 2016, the study concludes that one important reason about gentrification is the rental price increasing due to wealthy people come in. For the second category, we focused on the population of people who is at least twenty four years old with four years college experiences. We conclude that in these new residents who come into the community, people with college level experience has a big proportion"
   ]
  },
  {
   "cell_type": "markdown",
   "id": "24d6ab7a-bea8-46a2-b1be-4e0ecbabaf5b",
   "metadata": {},
   "source": [
    "## Rental price is largely increased from 2000 to 2016"
   ]
  },
  {
   "cell_type": "markdown",
   "id": "f21d2276-23eb-4fe5-892b-96ccac87cef8",
   "metadata": {},
   "source": [
    "One key research question of the study is how gentrification relates to living prices. On this part, we mainly focused on the rent price change from 2000 to 2016. We can see from the figure 3 in below that the median rent price has largely increased from 2000 to 2016. From 2095 different areas at NYC, approximate 1782 areas' rental prices have increased at least sixty percents. Therefore, the original residents cannot afford the huge change of the rental price and being forced to move out of their community. If we dig into the reason behind this phenomenon, we trying to figure out what factor caused the rental price increased in such a speed. We analyze the median income changed from 2000 to 2016 and find out that over 1209 areas' median incomes have increased at least fourty percents.We know that gentrification is caused by new residents moving in and original residents moving out. Combined these two data, we find out the new residents who earned higher income than original residents raice the rental prices largely. This action caused the original residents cannot afford the living cost anymore and being forced to move out."
   ]
  },
  {
   "cell_type": "markdown",
   "id": "667b8a6b-76de-4f5b-b430-521eadd712d0",
   "metadata": {},
   "source": [
    "Overall, when we trying to decrease the speed of gentrification, one thing we should consider about is how to prevent the original residents being forced to move out because of the increasing living costs. An example at this point is from Sai Ying Pun community at HongKong. When gentrification occur in this community, government gives these original residents finantial support to help them living in this community. Why original residents is important for this area is because they represent the history and culture of a city. We cannot stop the city to change, but we need to think about how to help original residents when gentrification occurs."
   ]
  },
  {
   "cell_type": "markdown",
   "id": "0783d2f9-d247-4e55-81b7-97047245457f",
   "metadata": {},
   "source": [
    "## Large proportion of residents has at least four years college experience"
   ]
  },
  {
   "cell_type": "markdown",
   "id": "c8badec9-e430-466a-bf2d-4b7084493b42",
   "metadata": {},
   "source": [
    "Another category we are looking at is what is education level relates to gentrification. One this part, we look at the population of people with at least four years college experience changed from 2000 to 2016 in these areas. We can see from figure two that approximately 1060 areas' population with at least four years college expeirence has increased at least fourty percents. This is an significant finding which can help us decrease the speed of gentrification. Over the past year, people who stand out to fight against gentrification are usually original residents who live in this community. A lot of new residents haven't realize what is gentrification and the consequences they may caused when they entering into this community. Combined with this finding, one way we can focuse on is educated students who is in the college about the consequences of gentrification. Therefore, they can help original residents to stand out and attract social attention to help this group of people."
   ]
  },
  {
   "cell_type": "markdown",
   "id": "3b2b2e9c-2756-420c-bf0b-e745dbf7bb96",
   "metadata": {},
   "source": [
    "## Limitation"
   ]
  },
  {
   "cell_type": "markdown",
   "id": "a22bf2f1-777a-4be7-b391-9a76ecfe3a63",
   "metadata": {},
   "source": [
    "Because the study focuses on New York City's data and only rely on one data set, these finding may have bias when we want to generate some general solutions for gentrification. One gap we have is that these findings may not be a conclusion for a general phenomenon in other big cities that have gentrification. The reason is that different city is under different culture and different government policies, we can hardly generate general phenomenon only based on New York City's data."
   ]
  },
  {
   "cell_type": "markdown",
   "id": "c61efdad-16a5-4389-ace1-b650838c2d0c",
   "metadata": {},
   "source": [
    "# Conclusion"
   ]
  },
  {
   "cell_type": "markdown",
   "id": "eecd468a-ec6b-4540-b1ed-e7dede1be8bf",
   "metadata": {},
   "source": [
    "This study is about how gentrification relates to living price change and education level. We mainly discuss the method and ways of analyzing to generate our findings and two key findings we have. The first one is the rental price is largely increased from 2000 to 2016. At this point, we combined with the definition of gentrification and median income changed from 2000 to 2016 to find out the reason behind this finding. Furthermore, we discussed how residents' education level changed from 2000 to 2016. We get inspired from this finding and trying to seek a potential solution which can solve gentrification."
   ]
  },
  {
   "cell_type": "markdown",
   "id": "0c9e21bc-a534-4b51-b8fe-c67cd73a1955",
   "metadata": {},
   "source": [
    "In future research, we will first research gentrification in different cities to find standard behavior among these cities. The process of gentrification can be concluded in a single sentence: original residents move out and new residents move in. Until this phase, the study only focused on qualitative data which help explain the process of gentrification. However, we should consider quanlitative data in the further step. As we learned from this class, big data need quatitative data. We need to find out more interview about the people who really experience gentrification to do further research."
   ]
  },
  {
   "cell_type": "markdown",
   "id": "a2bc8164-0dad-4048-8d98-443de5864423",
   "metadata": {},
   "source": [
    "# Data Analysis"
   ]
  },
  {
   "cell_type": "markdown",
   "id": "bcde6dad-7612-4deb-a965-ccd178f30f0c",
   "metadata": {},
   "source": [
    "## Load the data into the notebook"
   ]
  },
  {
   "cell_type": "markdown",
   "id": "b640a78f-9480-4cbc-a1f9-6890bf19c3bf",
   "metadata": {},
   "source": [
    "According to the document, the worksheet with the source variables, relative change input variables and final output variables for NYC from the year 2000 to 2016 is spread in this file:"
   ]
  },
  {
   "cell_type": "markdown",
   "id": "0142f8e2-7ae8-4be8-a273-c0643313a38e",
   "metadata": {},
   "source": [
    "- ``Data_NYC_Gentrification_2000_16.xlsx``"
   ]
  },
  {
   "cell_type": "code",
   "execution_count": 1,
   "id": "e52fc98d-69c1-40bc-8e51-9d1aa116a7ed",
   "metadata": {
    "tags": []
   },
   "outputs": [],
   "source": [
    "import pandas as pd\n",
    "df = pd.read_excel('Data_NYC_Gentrification_2000_16.xlsx')\n",
    "df.to_csv('data.csv')"
   ]
  },
  {
   "cell_type": "code",
   "execution_count": 2,
   "id": "547c0b57-fcc1-4c99-95c5-7fb174779e56",
   "metadata": {
    "tags": []
   },
   "outputs": [
    {
     "name": "stdout",
     "output_type": "stream",
     "text": [
      "{'0%-': 126, '0%-20%': 285, '20%-40%': 475, '40%-60%': 484, '60%-80%': 291, '80%-100%': 177, '100%+': 257}\n"
     ]
    }
   ],
   "source": [
    "median_income_change = df.mdfami00_16.to_list()\n",
    "keyList = [\"0%-\",\"0%-20%\",\"20%-40%\",\"40%-60%\", \"60%-80%\", \"80%-100%\", \"100%+\"]\n",
    "dict1 = {}\n",
    "for i in keyList:\n",
    "    dict1[i] = 0\n",
    "for value in median_income_change:\n",
    "    if value < 0:\n",
    "        dict1[\"0%-\"] += 1\n",
    "    elif value >= 0 and value < 0.2:\n",
    "        dict1[\"0%-20%\"] += 1\n",
    "    elif value >= 0.2 and value < 0.4:\n",
    "        dict1[\"20%-40%\"] += 1\n",
    "    elif value >= 0.4 and value < 0.6:\n",
    "        dict1[\"40%-60%\"] += 1\n",
    "    elif value >= 0.6 and value < 0.8:\n",
    "        dict1[\"60%-80%\"] += 1\n",
    "    elif value >= 0.8 and value <= 1:\n",
    "        dict1[\"80%-100%\"] += 1\n",
    "    else:\n",
    "        dict1[\"100%+\"] += 1\n",
    "print(dict1)"
   ]
  },
  {
   "cell_type": "code",
   "execution_count": 3,
   "id": "795084aa-34cc-4204-92f7-096f62a7f815",
   "metadata": {},
   "outputs": [
    {
     "data": {
      "image/png": "[encoded data removed]",
      "text/plain": [
       "<Figure size 432x288 with 1 Axes>"
      ]
     },
     "metadata": {
      "needs_background": "light"
     },
     "output_type": "display_data"
    }
   ],
   "source": [
    "import matplotlib.pyplot as plt\n",
    "names = list(dict1.keys())\n",
    "values = list(dict1.values())\n",
    "plt.bar(range(len(dict1)), values, tick_label=names, align=\"center\", width=0.6)\n",
    "plt.title(\"median family income changes from 2000 to 2016\")\n",
    "plt.show()"
   ]
  },
  {
   "cell_type": "code",
   "execution_count": 4,
   "id": "2c2392b2-bb8d-45e0-850c-7dd469981b4b",
   "metadata": {},
   "outputs": [
    {
     "name": "stdout",
     "output_type": "stream",
     "text": [
      "{'0%-': 241, '0%-20%': 400, '20%-40%': 394, '40%-60%': 293, '60%-80%': 194, '80%-100%': 142, '100%+': 431}\n"
     ]
    }
   ],
   "source": [
    "population_college_change = df.College00_16.to_list()\n",
    "keyList1 = [\"0%-\",\"0%-20%\",\"20%-40%\",\"40%-60%\", \"60%-80%\", \"80%-100%\", \"100%+\"]\n",
    "dict2 = {}\n",
    "for i in keyList1:\n",
    "    dict2[i] = 0\n",
    "for value in population_college_change:\n",
    "    if value < 0:\n",
    "        dict2[\"0%-\"] += 1\n",
    "    elif value >= 0 and value < 0.2:\n",
    "        dict2[\"0%-20%\"] += 1\n",
    "    elif value >= 0.2 and value < 0.4:\n",
    "        dict2[\"20%-40%\"] += 1\n",
    "    elif value >= 0.4 and value < 0.6:\n",
    "        dict2[\"40%-60%\"] += 1\n",
    "    elif value >= 0.6 and value < 0.8:\n",
    "        dict2[\"60%-80%\"] += 1\n",
    "    elif value >= 0.8 and value <= 1:\n",
    "        dict2[\"80%-100%\"] += 1\n",
    "    else:\n",
    "        dict2[\"100%+\"] += 1\n",
    "print(dict2)"
   ]
  },
  {
   "cell_type": "code",
   "execution_count": 15,
   "id": "c45a976f-8b74-4111-8a8b-467c66825814",
   "metadata": {},
   "outputs": [
    {
     "data": {
      "image/png": "[encoded data removed]",
      "text/plain": [
       "<Figure size 432x288 with 1 Axes>"
      ]
     },
     "metadata": {
      "needs_background": "light"
     },
     "output_type": "display_data"
    }
   ],
   "source": [
    "name1 = list(dict2.keys())\n",
    "value1 = list(dict2.values())\n",
    "plt.bar(range(len(dict2)), value1, tick_label=name1, align=\"center\", width=0.6)\n",
    "plt.title(\"population of people with at least 4-year college degree change from 2000 to 2016\")\n",
    "plt.show()"
   ]
  },
  {
   "cell_type": "code",
   "execution_count": 6,
   "id": "ff3730b6-b092-4e6d-8830-1a687b8d9426",
   "metadata": {
    "tags": []
   },
   "outputs": [
    {
     "name": "stdout",
     "output_type": "stream",
     "text": [
      "{'0%-': 5, '0%-20%': 18, '20%-40%': 58, '40%-60%': 232, '60%-80%': 670, '80%-100%': 611, '100%+': 501}\n"
     ]
    }
   ],
   "source": [
    "mid_rent_change = df.mdrent00_16.to_list()\n",
    "keyList2 = [\"0%-\",\"0%-20%\",\"20%-40%\",\"40%-60%\", \"60%-80%\", \"80%-100%\", \"100%+\"]\n",
    "dict3 = {}\n",
    "for i in keyList2:\n",
    "    dict3[i] = 0\n",
    "for value in mid_rent_change:\n",
    "    if value < 0:\n",
    "        dict3[\"0%-\"] += 1\n",
    "    elif value >= 0 and value < 0.2:\n",
    "        dict3[\"0%-20%\"] += 1\n",
    "    elif value >= 0.2 and value < 0.4:\n",
    "        dict3[\"20%-40%\"] += 1\n",
    "    elif value >= 0.4 and value < 0.6:\n",
    "        dict3[\"40%-60%\"] += 1\n",
    "    elif value >= 0.6 and value < 0.8:\n",
    "        dict3[\"60%-80%\"] += 1\n",
    "    elif value >= 0.8 and value <= 1:\n",
    "        dict3[\"80%-100%\"] += 1\n",
    "    else:\n",
    "        dict3[\"100%+\"] += 1\n",
    "print(dict3)"
   ]
  },
  {
   "cell_type": "code",
   "execution_count": null,
   "id": "066687a5-e51d-45f6-adc8-00c448bad4cc",
   "metadata": {},
   "outputs": [
    {
     "data": {
      "image/png": "[encoded data removed]",
      "text/plain": [
       "<Figure size 432x288 with 1 Axes>"
      ]
     },
     "metadata": {},
     "output_type": "display_data"
    }
   ],
   "source": [
    "name2 = list(dict3.keys())\n",
    "value2 = list(dict3.values())\n",
    "myexplode = [0.4, 0.6, 0.4, 0, 0, 0, 0]\n",
    "plt.pie(value2, labels = name2, explode = myexplode)\n",
    "plt.title(\"Median Rent Price change from 2000 to 2016\")\n",
    "plt.show()"
   ]
  },
  {
   "cell_type": "code",
   "execution_count": null,
   "id": "4f044fce-3024-4797-8eda-e07bb8b623e1",
   "metadata": {},
   "outputs": [],
   "source": []
  }
 ],
 "metadata": {
  "kernelspec": {
   "display_name": "Python 3 (ipykernel)",
   "language": "python",
   "name": "python3"
  },
  "language_info": {
   "codemirror_mode": {
    "name": "ipython",
    "version": 3
   },
   "file_extension": ".py",
   "mimetype": "text/x-python",
   "name": "python",
   "nbconvert_exporter": "python",
   "pygments_lexer": "ipython3",
   "version": "3.9.7"
  }
 },
 "nbformat": 4,
 "nbformat_minor": 5
}
