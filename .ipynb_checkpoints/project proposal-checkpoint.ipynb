{
 "cells": [
  {
   "cell_type": "markdown",
   "id": "c10aec5d-a61e-4fd9-ab06-19324c381ca2",
   "metadata": {},
   "source": [
    "# Motivation and Problem Statement\n"
   ]
  },
  {
   "cell_type": "markdown",
   "id": "1980bda1-a120-4999-b1bc-d3e12d7fd5fc",
   "metadata": {},
   "source": [
    "For this final project, I plan to analyze a dataset relate to gentrification in New York city. The reason I want to do this analyze is I want to find out the parttern of gentrification and can give suggestion about how we can decrease the speed of gentrification. Gentrification cause a lot of negative impacts. For example, it forced original residents to move out their community and rised the living priced at this area. From a scientific perspective, it is worth for us to find out the pattern of gentrification so that we can find out a way to stop gentrification. My research goal in this project is the how gentrification relates to education level and living costs? To be specific, gentrification is a process that lower income class move out and upper class move into the community. However, how is gentrification relates to education level is a problem I haven't see a clear answer."
   ]
  },
  {
   "cell_type": "markdown",
   "id": "745da2d8-92de-49b1-a86e-f1339a9fd1ab",
   "metadata": {},
   "source": [
    "# Data Selected for Analysis"
   ]
  },
  {
   "cell_type": "markdown",
   "id": "7d0386f2-6874-4f6f-a3a8-5ef02af8b1b9",
   "metadata": {},
   "source": [
    "The dataset I choose is [Data for New York City Index of Gentrification](https://figshare.com/articles/dataset/Data_for_New_York_City_Index_of_Gentrification/11862090). This workbook contains data on census tracts, residential housing sales from the year 2000 to 2016. This dataset can be used for this project because in it [licence](https://creativecommons.org/licenses/by/4.0/), it says that we cab remix, transform, and build upon the material for any purpose, even commercially. This dataset is suitable for addressing my research goal because it contains data about how many people who have at least four years college experience in different areas. Also, it contains data about the median living price at different areas. By comparing these data from 2000 and 2016, we can find out the possible relationship between gentrification and education level and also living price."
   ]
  },
  {
   "cell_type": "markdown",
   "id": "3810b8e7-fdde-4301-8d25-e53237437ed3",
   "metadata": {
    "tags": []
   },
   "source": [
    "# Unknowns and Dependencies"
   ]
  },
  {
   "cell_type": "markdown",
   "id": "212abee1-00c7-4c59-a060-f151422cc4b4",
   "metadata": {
    "tags": []
   },
   "source": [
    "One challenge I may faced is to compared different data between 2000 and 2016. I need to carefully think about control the variable so that I can make sure the result is valid. Another question I need to think about is how to visualize my result. What kind of graph and method I would like to use to visualize my data. "
   ]
  },
  {
   "cell_type": "markdown",
   "id": "0b9e6076-3cd4-48ac-a814-dd44f6f63def",
   "metadata": {},
   "source": [
    "# Feedback From Colleagues"
   ]
  },
  {
   "cell_type": "markdown",
   "id": "df0ee266-ae4f-4b28-819b-aa1991566ad0",
   "metadata": {},
   "source": [
    "One feedback I received is to make clear about what is include in this dataset so that audience can understand why I choose this dataset."
   ]
  },
  {
   "cell_type": "code",
   "execution_count": null,
   "id": "cf02d833-95bd-4f2f-b86c-61bd665ebcb3",
   "metadata": {},
   "outputs": [],
   "source": []
  }
 ],
 "metadata": {
  "kernelspec": {
   "display_name": "Python 3 (ipykernel)",
   "language": "python",
   "name": "python3"
  },
  "language_info": {
   "codemirror_mode": {
    "name": "ipython",
    "version": 3
   },
   "file_extension": ".py",
   "mimetype": "text/x-python",
   "name": "python",
   "nbconvert_exporter": "python",
   "pygments_lexer": "ipython3",
   "version": "3.9.7"
  }
 },
 "nbformat": 4,
 "nbformat_minor": 5
}
