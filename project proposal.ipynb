{
 "cells": [
  {
   "cell_type": "markdown",
   "id": "c10aec5d-a61e-4fd9-ab06-19324c381ca2",
   "metadata": {},
   "source": [
    "# Motivation and Problem Statement\n"
   ]
  },
  {
   "cell_type": "markdown",
   "id": "1980bda1-a120-4999-b1bc-d3e12d7fd5fc",
   "metadata": {},
   "source": [
    "For this final project, I plan to analyze a dataset relate to gentrification in New York city. The reason I want to do this analyze is I want to find out the parttern of gentrification and can give suggestion about how we can decrease the speed of gentrification. Gentrification cause a lot of negative impacts. For example, it forced original residents to move out their community and rised the living priced at this area. From a scientific perspective, it is worth for us to find out the pattern of gentrification so that we can find out a way to stop gentrification. My research goal in this project is the how gentrification relates to education level and living costs? To be specific, gentrification is a process that lower income class move out and upper class move into the community. However, how is gentrification relates to education level is a problem I haven't see a clear answer."
   ]
  },
  {
   "cell_type": "markdown",
   "id": "745da2d8-92de-49b1-a86e-f1339a9fd1ab",
   "metadata": {},
   "source": [
    "# Data Selected for Analysis"
   ]
  },
  {
   "cell_type": "markdown",
   "id": "7d0386f2-6874-4f6f-a3a8-5ef02af8b1b9",
   "metadata": {},
   "source": [
    "The dataset I choose is [Data for New York City Index of Gentrification](https://figshare.com/articles/dataset/Data_for_New_York_City_Index_of_Gentrification/11862090). This workbook contains data on census tracts, residential housing sales from the year 2000 to 2016. This dataset can be used for this project because in it [licence](https://creativecommons.org/licenses/by/4.0/), it says that we cab remix, transform, and build upon the material for any purpose, even commercially. This dataset is suitable for addressing my research goal because it contains data about how many people who have at least four years college experience in different areas. Also, it contains data about the median living price at different areas. By comparing these data from 2000 and 2016, we can find out the possible relationship between gentrification and education level and also living price."
   ]
  },
  {
   "cell_type": "markdown",
   "id": "3810b8e7-fdde-4301-8d25-e53237437ed3",
   "metadata": {
    "tags": []
   },
   "source": [
    "# Unknowns and Dependencies"
   ]
  },
  {
   "cell_type": "markdown",
   "id": "212abee1-00c7-4c59-a060-f151422cc4b4",
   "metadata": {
    "tags": []
   },
   "source": [
    "One challenge I may faced is to compared different data between 2000 and 2016. I need to carefully think about control the variable so that I can make sure the result is valid. Another question I need to think about is how to visualize my result. What kind of graph and method I would like to use to visualize my data. "
   ]
  },
  {
   "cell_type": "markdown",
   "id": "0b9e6076-3cd4-48ac-a814-dd44f6f63def",
   "metadata": {},
   "source": [
    "# Feedback From Colleagues"
   ]
  },
  {
   "cell_type": "markdown",
   "id": "df0ee266-ae4f-4b28-819b-aa1991566ad0",
   "metadata": {},
   "source": [
    "One feedback I received is to make clear about what is include in this dataset so that audience can understand why I choose this dataset."
   ]
  },
  {
   "cell_type": "markdown",
   "id": "994f66ae-b9d3-4d37-a8ee-c31743c791f7",
   "metadata": {},
   "source": [
    "# Research Question"
   ]
  },
  {
   "cell_type": "markdown",
   "id": "b81083ba-7507-4242-914c-a375c44d6e7b",
   "metadata": {},
   "source": [
    "In this research project, I set up several research questions to guide the research process. These research questions are questions this study will try to find out and report at last:\n",
    "  \n",
    "```\n",
    "1. How median family income changes from 2000 to 2016?\n",
    "2. What is the relationship between gentrification and the number of people has at least four years college education level?\n",
    "3. How the median rent price changes from 2000 to 2016?\n",
    "4. How the median cost for residantial buildings relate to the sales for residantial buildings from 2000 to 2016?\n",
    "```  "
   ]
  },
  {
   "cell_type": "markdown",
   "id": "801d5dfe-1498-46d7-87ef-5583fe75982b",
   "metadata": {},
   "source": [
    "# Background and Related Work"
   ]
  },
  {
   "cell_type": "markdown",
   "id": "bcd73506-6de5-4cfc-aa6c-cc4d065b845a",
   "metadata": {},
   "source": [
    "As urban modernization happened in big cities, gentrification hugely influenced the lower-class of people and hurt them. The word gentrification means the process of changing the character of a neighborhood through the influx of more affluent residents and businesses. However, this topic is important because of the negative impact it brings to our society. [According to Luis Contreras, some common impacts of gentrification include displacement through rent/price increase, loss of affordable housing, and homelessness.](https://storymaps.arcgis.com/stories/6baa7d09f3a74b2c9a86d69a545e2d2a) At first, the lower-class people can easily find other places to live. However, as urban modernization covers more and more areas in a city, some people have no place to live. When gentrification impacts more and more people, it is worth researching why gentrification happened and how we can solve this problem. This previous study help me to understand the basic pattern of the gentrification. However, it inspired me to think about more detail things behind this phenomenon. For example, what exactly living costs increase due to the gentrification? Another point is how gentrification relates to education level. It seems like in these study they all mentioned about how gentrification impact different classes but haven't mentioned about how gentrification relates to educational level.\n"
   ]
  },
  {
   "cell_type": "markdown",
   "id": "a85371c1-df36-485e-afb0-276583cae430",
   "metadata": {},
   "source": [
    "# Methodology"
   ]
  },
  {
   "cell_type": "markdown",
   "id": "f0cece22-34f3-4c2e-ae63-718ec2730e5c",
   "metadata": {},
   "source": [
    "In this study, I will investigate this phenomenon through analyzing [Data for New York City Index of Gentrification](https://figshare.com/articles/dataset/Data_for_New_York_City_Index_of_Gentrification/11862090). From this data set, we can get an index of gentrification for NYC census tracts, representing change from the year 2000 to 2016. The study will use bar charts for data visualizations for data relates to number of people. Also, for data relate to price, the study will use map to visualize the result. The reason I choose these different methods is that we can easily see the pattern through observing bar charts. Additionally, the data set is separated by different blocks, using map can help us to understand the pattern we want to investigate."
   ]
  },
  {
   "cell_type": "code",
   "execution_count": null,
   "id": "f04ba87c-5484-4aab-be76-71cd1078014d",
   "metadata": {},
   "outputs": [],
   "source": []
  }
 ],
 "metadata": {
  "kernelspec": {
   "display_name": "Python 3 (ipykernel)",
   "language": "python",
   "name": "python3"
  },
  "language_info": {
   "codemirror_mode": {
    "name": "ipython",
    "version": 3
   },
   "file_extension": ".py",
   "mimetype": "text/x-python",
   "name": "python",
   "nbconvert_exporter": "python",
   "pygments_lexer": "ipython3",
   "version": "3.9.7"
  }
 },
 "nbformat": 4,
 "nbformat_minor": 5
}
